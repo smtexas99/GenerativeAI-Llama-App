{
 "cells": [
  {
   "cell_type": "markdown",
   "id": "72b92fcd-3f1e-41ab-8044-accd940f4703",
   "metadata": {
    "tags": []
   },
   "source": [
    "<h1>On-prem Generative AI: Using Vicuna model from HuggingFace.</h1>\n",
    "\n",
    "<br>Sources/References:\n",
    "<li>Langchain: https://docs.langchain.com/docs/\n",
    "<li>Huggingface: https://huggingface.co/models\n",
    "<li>Vicuna 7B Quantized ggml model: https://huggingface.co/lmsys/vicuna-7b-v1.1\n"
   ]
  },
  {
   "cell_type": "code",
   "execution_count": 1,
   "id": "b4b3e19b-bdbe-467d-8b4a-e6e8ca01c064",
   "metadata": {},
   "outputs": [
    {
     "name": "stdout",
     "output_type": "stream",
     "text": [
      "nvcc: NVIDIA (R) Cuda compiler driver\n",
      "Copyright (c) 2005-2022 NVIDIA Corporation\n",
      "Built on Wed_Jun__8_16:59:34_Pacific_Daylight_Time_2022\n",
      "Cuda compilation tools, release 11.7, V11.7.99\n",
      "Build cuda_11.7.r11.7/compiler.31442593_0\n"
     ]
    }
   ],
   "source": [
    "!nvcc --version"
   ]
  },
  {
   "cell_type": "markdown",
   "id": "6c6c515a-f996-48d6-952b-d131ef6e00e2",
   "metadata": {},
   "source": [
    "Importing libraries and defining the model to run on the GPU"
   ]
  },
  {
   "cell_type": "code",
   "execution_count": 2,
   "id": "0a7f6050-2a3f-4ed7-a141-fc2e009d9ffb",
   "metadata": {},
   "outputs": [],
   "source": [
    "import datetime as dt\n",
    "from llama_cpp import Llama\n",
    "import ctypes\n",
    "\n",
    "llm =Llama(model_path=\"ggml-vicuna-7b-1.1-q4_1.bin\", n_ctx=512, n_batch=126, n_gpu_layers=32, verbose = False)"
   ]
  },
  {
   "cell_type": "markdown",
   "id": "7019062b-6ee6-4b30-b966-9b706ee299d8",
   "metadata": {},
   "source": [
    "Creating a function to generate text"
   ]
  },
  {
   "cell_type": "code",
   "execution_count": 3,
   "id": "b6717993-0dc6-4a5c-9cab-76afa8dd290f",
   "metadata": {},
   "outputs": [],
   "source": [
    "def generate_text(\n",
    "    prompt=\" \",\n",
    "    max_tokens=256*2,\n",
    "    temperature=0.1,\n",
    "    top_p=0.5,\n",
    "    echo=False,\n",
    "    stop=[\"#\"],\n",
    "):\n",
    "    output = llm(\n",
    "        prompt,\n",
    "        max_tokens=max_tokens,\n",
    "        temperature=temperature,\n",
    "        top_p=top_p,\n",
    "        echo=echo,\n",
    "        stop=stop,\n",
    "    )\n",
    "    output_text = output[\"choices\"][0][\"text\"].strip()\n",
    "    return output_text"
   ]
  },
  {
   "cell_type": "code",
   "execution_count": 4,
   "id": "59b459b3-6cd3-4718-aa49-64f626c83188",
   "metadata": {},
   "outputs": [
    {
     "name": "stdout",
     "output_type": "stream",
     "text": [
      "Process Started:        2023-08-22 15:37\n"
     ]
    }
   ],
   "source": [
    "now1 = dt.datetime.now()\n",
    "print(\"Process Started:       \", (now1.strftime(\"%Y-%m-%d %H:%M\")))"
   ]
  },
  {
   "cell_type": "code",
   "execution_count": 5,
   "id": "5001ffc3-4f6b-45a3-af00-2793b2e11b56",
   "metadata": {},
   "outputs": [],
   "source": [
    "q = \"Compose an essay about Climate Change.\"\n",
    "ans = generate_text(q, max_tokens=256, temperature = 0.8)"
   ]
  },
  {
   "cell_type": "markdown",
   "id": "7465a20d-bb41-4ae7-be46-4c0a14dcefd4",
   "metadata": {},
   "source": [
    "Although the temperature was set to 0.1 in the function, it was reset to 0.8 while sending the prompt."
   ]
  },
  {
   "cell_type": "code",
   "execution_count": 6,
   "id": "50559e3c-6732-4911-9fd6-48a5ad391e54",
   "metadata": {},
   "outputs": [
    {
     "name": "stdout",
     "output_type": "stream",
     "text": [
      "Process Started:        2023-08-22 15:38\n"
     ]
    }
   ],
   "source": [
    "now2 = dt.datetime.now()\n",
    "print(\"Process Started:       \", (now2.strftime(\"%Y-%m-%d %H:%M\")))"
   ]
  },
  {
   "cell_type": "code",
   "execution_count": 7,
   "id": "072525f7-064d-45b4-ae1b-7463f9d83810",
   "metadata": {},
   "outputs": [
    {
     "name": "stdout",
     "output_type": "stream",
     "text": [
      "Compose an essay about Climate Change.\n"
     ]
    }
   ],
   "source": [
    "print(q)"
   ]
  },
  {
   "cell_type": "code",
   "execution_count": 8,
   "id": "a637fb0a-0732-4c9f-9c8b-b8f3068d02aa",
   "metadata": {},
   "outputs": [
    {
     "name": "stdout",
     "output_type": "stream",
     "text": [
      "Climate change is a significant global issue that has been affecting the environment and human lives for many years. It refers to the long-term changes in weather patterns, including temperature, precipitation, and wind patterns, which have resulted from the buildup of greenhouse gases in the atmosphere (Intergovernmental Panel on Climate Change, 2014). The impacts of climate change are diverse and far-reaching, affecting everything from agriculture to human health. This essay will discuss the causes, effects, and solutions to climate change.\n",
      "Causes of Climate Change\n",
      "The primary cause of climate change is the buildup of greenhouse gases in the atmosphere, primarily carbon dioxide (CO2), methane, and water vapor. Human activities such as burning fossil fuels, deforestation, and agriculture have increased the levels of these gases, leading to an increase in global temperatures (Intergovernmental Panel on Climate Change, 2014).\n",
      "Effects of Climate Change\n",
      "The effects of climate change are diverse and far-reaching. Some of the most significant impacts include:\n",
      "Increased\n"
     ]
    }
   ],
   "source": [
    "print(ans)"
   ]
  },
  {
   "cell_type": "code",
   "execution_count": 9,
   "id": "d0b66637-0291-416b-9c2a-0a2309823916",
   "metadata": {},
   "outputs": [
    {
     "name": "stdout",
     "output_type": "stream",
     "text": [
      "Processing Time:                       0:00:47.628024\n"
     ]
    }
   ],
   "source": [
    "print(\"Processing Time:                      \",(now2-now1))"
   ]
  },
  {
   "cell_type": "code",
   "execution_count": 13,
   "id": "efa66b32-3619-466b-8eaa-18305d63e358",
   "metadata": {},
   "outputs": [
    {
     "name": "stdout",
     "output_type": "stream",
     "text": [
      "\n",
      "Temperature = 0\n",
      "Who is the President of the US?\n",
      "The President of the United States is Barack Obama.\n",
      "\n",
      "Temperature = 0.5\n",
      "Who is the President of the US?\n",
      "The President of the United States is the head of state and government of the United States, indirectly elected to a four-year term by the people through the Electoral College. The President takes office on January 20 of the year following their election.\n",
      "\n",
      "Temperature = 1\n",
      "Who is the President of the US?\n",
      "What are the three branches of government in the United States?\n"
     ]
    }
   ],
   "source": [
    "import pandas as pd\n",
    "temp = [0,0.5,1]\n",
    "a_lst = []\n",
    "for i in temp:\n",
    "    print(\"\\nTemperature =\", i)\n",
    "    q=\"Who is the President of the US?\"\n",
    "    print(q)\n",
    "    ans = generate_text(q, max_tokens=128,temperature=i)\n",
    "    print(ans)\n",
    "    a_lst.append(ans)"
   ]
  },
  {
   "cell_type": "code",
   "execution_count": 14,
   "id": "6dab0336-6d13-439b-be40-ba7365d74a19",
   "metadata": {},
   "outputs": [],
   "source": [
    "adf = pd.DataFrame(\n",
    "    {'Temperature': temp,\n",
    "     'Response': a_lst\n",
    "    })"
   ]
  },
  {
   "cell_type": "code",
   "execution_count": 15,
   "id": "d33566d2-4b87-4830-aaa2-55be66f06f72",
   "metadata": {},
   "outputs": [
    {
     "name": "stdout",
     "output_type": "stream",
     "text": [
      "   Temperature                                           Response\n",
      "0          0.0  The President of the United States is Barack O...\n",
      "1          0.5  The President of the United States is the head...\n",
      "2          1.0  What are the three branches of government in t...\n"
     ]
    }
   ],
   "source": [
    "print(adf)"
   ]
  },
  {
   "cell_type": "markdown",
   "id": "92a633fd-32d5-451d-aabe-226055c7d0ab",
   "metadata": {},
   "source": [
    "<h3>Conclusion:</h3>\n",
    "As you can see the model temperature is a key factor in how the model generates its responses."
   ]
  }
 ],
 "metadata": {
  "kernelspec": {
   "display_name": "Python 3 (ipykernel)",
   "language": "python",
   "name": "python3"
  },
  "language_info": {
   "codemirror_mode": {
    "name": "ipython",
    "version": 3
   },
   "file_extension": ".py",
   "mimetype": "text/x-python",
   "name": "python",
   "nbconvert_exporter": "python",
   "pygments_lexer": "ipython3",
   "version": "3.10.12"
  }
 },
 "nbformat": 4,
 "nbformat_minor": 5
}
